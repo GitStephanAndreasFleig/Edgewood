{
 "cells": [
  {
   "cell_type": "code",
   "execution_count": null,
   "id": "2181c386-7a43-47c5-b496-75423f0eb161",
   "metadata": {},
   "outputs": [],
   "source": [
    "Edgewood College\n",
    "BUS904 Executive Supply Chain and Negotiations course\n",
    "Course Capstone Project \n",
    "May 2025"
   ]
  },
  {
   "cell_type": "code",
   "execution_count": null,
   "id": "e1fe6a35-8182-4b52-bdbd-9e6efdc2cec5",
   "metadata": {},
   "outputs": [],
   "source": [
    "Return on Investment (ROI) Calculation Fundraising Campaign"
   ]
  },
  {
   "cell_type": "code",
   "execution_count": 1,
   "id": "20c889d9-1304-44b6-bb8c-6677f1c09b84",
   "metadata": {},
   "outputs": [],
   "source": [
    "# Input: Fundraising Campaign Financials (in USD)\n",
    "tv_advertising = 11000000\n",
    "radio_advertising = 6000000\n",
    "social_media_campaigns = 21000000\n",
    "email_marketing = 2000000\n",
    "event_costs = 7000000\n",
    "staff_salaries = 3000000\n",
    "other_expenses = 2000000\n",
    "\n",
    "# Donations received and funds spent directly on program services\n",
    "total_donations = 252000000\n",
    "total_budget = 652000000\n",
    "program_service_expenses = 580000000"
   ]
  },
  {
   "cell_type": "code",
   "execution_count": 2,
   "id": "8c1a6db9-0a86-4368-bdbc-fe3334646fd8",
   "metadata": {},
   "outputs": [],
   "source": [
    "# Calculating Total fundraising expenses\n",
    "total_fundraising_expenses = (\n",
    "    tv_advertising +\n",
    "    radio_advertising +\n",
    "    social_media_campaigns +\n",
    "    email_marketing +\n",
    "    event_costs +\n",
    "    staff_salaries +\n",
    "    other_expenses\n",
    ")"
   ]
  },
  {
   "cell_type": "code",
   "execution_count": 3,
   "id": "cc38f4a2-7409-46c7-b80d-1c8550aa2548",
   "metadata": {},
   "outputs": [],
   "source": [
    "# Further Calculations\n",
    "\n",
    "# ROI\n",
    "roi = (total_donations - total_fundraising_expenses) / total_fundraising_expenses\n",
    "\n",
    "# Program Percentage\n",
    "program_percentage = 100 - (program_service_expenses / total_budget) * 100\n",
    "\n",
    "# Cost to Raise $100\n",
    "cost_to_raise_100 = (total_fundraising_expenses / total_donations) * 100\n",
    "\n",
    "# Charitywatch Efficiency Rating\n",
    "# Based on CharityWatch: https://www.charitywatch.org/our-charity-rating-process\n",
    "\n",
    "def get_efficiency_rating(cost_per_100):\n",
    "    if cost_per_100 <= 10:\n",
    "        return \"A+\"\n",
    "    elif cost_per_100 <= 15:\n",
    "        return \"A\"\n",
    "    elif cost_per_100 <= 20:\n",
    "        return \"A-\"\n",
    "    elif cost_per_100 <= 25:\n",
    "        return \"B+\"\n",
    "    elif cost_per_100 <= 30:\n",
    "        return \"B\"\n",
    "    elif cost_per_100 <= 35:\n",
    "        return \"C\"\n",
    "    elif cost_per_100 <= 40:\n",
    "        return \"D\"\n",
    "    else:\n",
    "        return \"F\"\n",
    "\n",
    "efficiency_rating = get_efficiency_rating(cost_to_raise_100)\n"
   ]
  },
  {
   "cell_type": "code",
   "execution_count": null,
   "id": "e8cbfb4a-f0ba-4fde-9e52-a2937194a725",
   "metadata": {},
   "outputs": [],
   "source": [
    "# Printing out results\n",
    "print(\"Fundraising Campaign Financial Summary:\")\n",
    "print(f\"Total Donations Received: ${total_donations:,.2f}\")\n",
    "print(f\"Total Fundraising Expenses: ${total_fundraising_expenses:,.2f}\")\n",
    "print(f\"Program Service Expenses: ${program_service_expenses:,.2f}\")\n",
    "print(f\"\\nReturn on Investment (ROI): {roi:.2f}\")\n",
    "print(f\"Program Percentage: {program_percentage:.2f}%\")\n",
    "print(f\"Cost to Raise $100: ${cost_to_raise_100:.2f}\")\n",
    "print(f\"\\nCharitywatch Efficiency Rating: {efficiency_rating}\")"
   ]
  },
  {
   "cell_type": "code",
   "execution_count": null,
   "id": "719fa9c9-117b-408d-ae11-d27c06d107b0",
   "metadata": {},
   "outputs": [],
   "source": []
  },
  {
   "cell_type": "code",
   "execution_count": null,
   "id": "8f3783ae-bfde-4248-9af1-4814bff2a31f",
   "metadata": {},
   "outputs": [],
   "source": []
  }
 ],
 "metadata": {
  "kernelspec": {
   "display_name": "Python 3 (ipykernel)",
   "language": "python",
   "name": "python3"
  },
  "language_info": {
   "codemirror_mode": {
    "name": "ipython",
    "version": 3
   },
   "file_extension": ".py",
   "mimetype": "text/x-python",
   "name": "python",
   "nbconvert_exporter": "python",
   "pygments_lexer": "ipython3",
   "version": "3.12.7"
  }
 },
 "nbformat": 4,
 "nbformat_minor": 5
}
